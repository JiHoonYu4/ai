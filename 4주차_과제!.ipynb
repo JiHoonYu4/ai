{
  "nbformat": 4,
  "nbformat_minor": 0,
  "metadata": {
    "colab": {
      "name": "4주차 과제!",
      "provenance": [],
      "collapsed_sections": [],
      "include_colab_link": true
    },
    "kernelspec": {
      "name": "python3",
      "display_name": "Python 3"
    }
  },
  "cells": [
    {
      "cell_type": "markdown",
      "metadata": {
        "id": "view-in-github",
        "colab_type": "text"
      },
      "source": [
        "<a href=\"https://colab.research.google.com/github/JiHoonYu4/ai/blob/master/4%EC%A3%BC%EC%B0%A8_%EA%B3%BC%EC%A0%9C!.ipynb\" target=\"_parent\"><img src=\"https://colab.research.google.com/assets/colab-badge.svg\" alt=\"Open In Colab\"/></a>"
      ]
    },
    {
      "cell_type": "markdown",
      "metadata": {
        "id": "wxkL6PjwsI6L",
        "colab_type": "text"
      },
      "source": [
        "# 4주차 과제\n",
        "- 용어 정리\n",
        "- 딥러닝 강의 클론 코딩\n",
        "- 딥러닝 순전파 & 역전파 계산"
      ]
    },
    {
      "cell_type": "markdown",
      "metadata": {
        "id": "ixEtDe6_uGgI",
        "colab_type": "text"
      },
      "source": [
        "## 1. 용어 정리\n",
        "\n",
        "다음 제시된 단어의 정의(설명)를 정리하여 작성 하세요.\n",
        "\n",
        "* 2문장 이상 작성 해 주세요. \n",
        "* 주제(단어)와 크게 벗어나지만 않는다면 정답처리 됩니다.\n",
        "* 강의 뿐 아니라 기타 레퍼런스를 참고하여 작성하셔도 됩니다. (기타 레퍼런스를 참고하신 경우, 해당 레퍼런스를 정리하여 하단에 작성해 주세요.)\n"
      ]
    },
    {
      "cell_type": "markdown",
      "metadata": {
        "id": "0lfwat8eurKZ",
        "colab_type": "text"
      },
      "source": [
        "__(예시)__\n",
        "### 심층 신경망\n",
        ": 입력층과 출력층 사이에 여러 개의 은닉층들로 이뤄진 인공신경망이다. 심층 신경망은 일반적으로 인공신경망과 마찬가지로 복잡한 비선형 관계들을 모델링 할 수 있다. 신층신경망의 목적은 분류 및 수치예측을 하기 위함이고 이미지 트레이닝이나 문자인식과 같은 분야에서 매우 유용하게 쓰이고 있다."
      ]
    },
    {
      "cell_type": "markdown",
      "metadata": {
        "id": "Y8YJNKG_v65A",
        "colab_type": "text"
      },
      "source": [
        "### MCP 뉴런\n",
        ":뉴런은 인간의 뇌의 신경세포와 연결되어 있으며 화학적, 전기적 신호를 처리하고 전달하는데 관여를 하는 세포입니다\n",
        "이 신경세포 개념과 비슷한 역활을 할 수 있도록 간단한 이진 논리회로로 표현을 한 것이 MPC뉴런입니다\n",
        "\n",
        "### 퍼셉트론\n",
        ":MPC뉴런을 기반으로 자동으로 최적의 가중치를 학습하는 알고리즘 입니다\n",
        "가중치는 뉴런의 출력 신호를 낼지 말지를 결정하기 위해 입력 특성의 중요도에 따라 곱하는 것을 의미합니다\n",
        "초기의 가중치는 무작위 값을 넣어 주고, 학습과정에서 일정한 값으로 수렴합니다\n",
        "\n",
        "### 역전파\n",
        ":퍼셉트론이 XOR문제를 풀 수 없는 것으로 부터 나오게 됩니다\n",
        "계산결과와 정답과의 오차를 구해 이 오차에 관여하는 가중치를 조절 하여 오차를 줄여나가는 방향으로 일정 횟수를 반복해 수정하는 방법 입니다\n",
        "\n",
        "### 강화학습\n",
        ":어떤 행동을 할지 판단을 내리는 주체인 에이전트가 있고, 에이전트가 속한 환경이 있습니다\n",
        "에이전트가 행동을 하면 그에 따라 상태가 바뀌게 되고, 보상을 받을 수 있습니다\n",
        "이 보상을 최대한 많이 받을 수 있도록 학습하는 방식입니다\n",
        "\n",
        "### 과적합\n",
        ":이름에서 알 수 있듯이 데이터를 과하게 학습을 한 것을 의미합니다\n",
        "많은 학습을 통해서 학습데이터에 관해서는 높은 정확도를 나타내지만 실제 새로운 데이터를 적용시에는 모델의 성능이 떨어지는 현상을 말합니다\n",
        "즉, 과한 데이터로 인해 필요없는 정보까지 학습을 했기 때문이라고 볼 수 있습니다\n",
        "### 차원의 저주\n",
        ": 차원이 증가됨(=변수가 늘어남)에 따라 성능이 저하되는 현상입니다\n",
        "여기서 무조건 변수가 늘어난다고 해서 차원의 저주가 생기는 것이 아니라, 데이터의 수보다 변수의 수가 많아지면 발생합니다\n",
        "즉, 차원이 높아짐에 따라 데이터의 밀집도가 작아지는 것을 의미합니다 \n"
      ]
    },
    {
      "cell_type": "markdown",
      "metadata": {
        "id": "d-zfFXLCy6jD",
        "colab_type": "text"
      },
      "source": [
        "## 2. 딥러닝 강의 클론 코딩\n",
        "\n",
        "####__퍼셉트론 구조 구현하기__ \n",
        "딥러닝 강의(__딥러닝 원리[1] 3:15 ~ 5:15 부분__)를 보고 코드를 따라 치며 출력 결과를 만드세요.\n",
        " \n",
        "\n",
        "* 하나의 코드셀에 해당 코드를 한번에 다 적어서 실행해주세요 (__그렇게 하지 않을 경우, 아래 이미지와 같은 출력값이 나오지 않을 수 있습니다__)\n",
        "\n",
        "*__주의!__ 실제로 코딩해서 출력해보면 강의에 나온 출력 결과와 다르게 나옵니다!!\n"
      ]
    },
    {
      "cell_type": "markdown",
      "metadata": {
        "id": "wcc5mzI9oZ7r",
        "colab_type": "text"
      },
      "source": [
        "![대체 텍스트](https://www.notion.so/image/https%3A%2F%2Fs3-us-west-2.amazonaws.com%2Fsecure.notion-static.com%2F0cceeed0-0235-4b0f-af88-0b8c377d5b4b%2F_2020-06-09__9.35.23.png?table=block&id=88fd8912-9356-49a4-9fda-a1a63fe96ea9&width=2870&cache=v2)"
      ]
    },
    {
      "cell_type": "code",
      "metadata": {
        "id": "bXbluBfEfJhM",
        "colab_type": "code",
        "colab": {
          "base_uri": "https://localhost:8080/",
          "height": 215
        },
        "outputId": "024df446-3448-4360-d65b-fea0f06cb91f"
      },
      "source": [
        "import tensorflow as tf\n",
        "tf.compat.v1.set_random_seed(2020)\n",
        "x=1\n",
        "y=0\n",
        "w=tf.random.normal([1],0,1)\n",
        "\n",
        "import math\n",
        "def sigmoid(x):\n",
        "  return 1/(1+math.exp(-x))\n",
        "output=sigmoid(x*w)\n",
        "print(output)\n",
        "\n",
        "0.47477188589261\n",
        "\n",
        "for i in range(1000):\n",
        "  output=sigmoid(x*w)\n",
        "  error=y-output\n",
        "  w=w+x*0.1*error\n",
        "\n",
        "  if i % 100==99:\n",
        "    print(\"학습 횟수:\",i,\"error:\",error,\"예측결과:\",output)"
      ],
      "execution_count": null,
      "outputs": [
        {
          "output_type": "stream",
          "text": [
            "0.47477188589261\n",
            "학습 횟수: 99 error: -0.10010598284299604 예측결과: 0.10010598284299604\n",
            "학습 횟수: 199 error: -0.05178399422833116 예측결과: 0.05178399422833116\n",
            "학습 횟수: 299 error: -0.034590451977903586 예측결과: 0.034590451977903586\n",
            "학습 횟수: 399 error: -0.02588962752851373 예측결과: 0.02588962752851373\n",
            "학습 횟수: 499 error: -0.020658699939863617 예측결과: 0.020658699939863617\n",
            "학습 횟수: 599 error: -0.017174253993457355 예측결과: 0.017174253993457355\n",
            "학습 횟수: 699 error: -0.014689506449480992 예측결과: 0.014689506449480992\n",
            "학습 횟수: 799 error: -0.012829497265431342 예측결과: 0.012829497265431342\n",
            "학습 횟수: 899 error: -0.011385568271837804 예측결과: 0.011385568271837804\n",
            "학습 횟수: 999 error: -0.010232493309882492 예측결과: 0.010232493309882492\n"
          ],
          "name": "stdout"
        }
      ]
    },
    {
      "cell_type": "markdown",
      "metadata": {
        "id": "kr0HVRk8fOom",
        "colab_type": "text"
      },
      "source": [
        "## 3. 딥러닝 순전파 & 역전파 계산\n",
        "\n",
        "딥러닝 강의(__딥러닝 원리[2] 0:55 ~ 4:32 부분__)에 나오는 순전파 & 역전파 계산에 대한 문제 입니다.\n",
        "\n",
        "해당 영상과 다음 이미지를 참고하여 다음 2가지 물음에 답하세요.\n",
        "\n",
        "\n",
        "(1) 학습률이 0.2 일 경우 출력층의 노드값\n",
        "\n",
        "(2) 학습률이 0.1과 0.2 중 기대출력값이 지도데이터 \"3\"과 더 가까운 학습률은?"
      ]
    },
    {
      "cell_type": "markdown",
      "metadata": {
        "id": "CpwPFWhOUzww",
        "colab_type": "text"
      },
      "source": [
        "![대체 텍스트](https://www.notion.so/image/https%3A%2F%2Fs3-us-west-2.amazonaws.com%2Fsecure.notion-static.com%2Ff54dfd45-92ec-44ae-9616-6949d2484a45%2F_2020-06-10__5.22.03.png?table=block&id=ee05da89-3ceb-4ad9-a2d3-c9f68d24d1d9&width=3580&cache=v2)"
      ]
    },
    {
      "cell_type": "markdown",
      "metadata": {
        "id": "B2OVY7w5U3CI",
        "colab_type": "text"
      },
      "source": [
        "## (1) 학습률이 0.2 일 경우 출력층의 노드값 : 1.6\n",
        "## (2) 학습률이 0.1과 0.2 중 기대출력값이 지도데이터 \"3\"과 더 가까운 학습률은? : 0.1"
      ]
    }
  ]
}