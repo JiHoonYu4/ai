{
  "nbformat": 4,
  "nbformat_minor": 0,
  "metadata": {
    "colab": {
      "name": "1주차 과제!",
      "provenance": [],
      "collapsed_sections": [],
      "include_colab_link": true
    },
    "kernelspec": {
      "name": "python3",
      "display_name": "Python 3"
    }
  },
  "cells": [
    {
      "cell_type": "markdown",
      "metadata": {
        "id": "view-in-github",
        "colab_type": "text"
      },
      "source": [
        "<a href=\"https://colab.research.google.com/github/JiHoonYu4/ai/blob/master/1%EC%A3%BC%EC%B0%A8_%EA%B3%BC%EC%A0%9C!.ipynb\" target=\"_parent\"><img src=\"https://colab.research.google.com/assets/colab-badge.svg\" alt=\"Open In Colab\"/></a>"
      ]
    },
    {
      "cell_type": "markdown",
      "metadata": {
        "id": "YbgBvQ6DjxMm",
        "colab_type": "text"
      },
      "source": [
        "# 1주차 과제\n",
        "- 시중에 나와있는 다양한 제품들과 서비스 속 적용된 인공지능 기술들에 대해서 분석\n",
        "- 나의 학습목표"
      ]
    },
    {
      "cell_type": "markdown",
      "metadata": {
        "id": "evbG1BaNI1qd",
        "colab_type": "text"
      },
      "source": [
        "## 1. 시중에 나와있는 다양한 제품들과 서비스 속 적용된 인공지능 기술들에 대해서 분석"
      ]
    },
    {
      "cell_type": "markdown",
      "metadata": {
        "id": "rqvqy18tI5Q5",
        "colab_type": "text"
      },
      "source": [
        "###1. 서론\n",
        "\n",
        "먼저는 사람들의 일상 생활에 인공지능이라는 존재가 많다는 것에 신기했습니다. 당연하게 여기던 것들, 관심을 크게 가지지 않았던 것 들이 이미 저의 삶에 녹아져있다는 것을 인식하지 못했습니다"
      ]
    },
    {
      "cell_type": "markdown",
      "metadata": {
        "id": "HKdQdHs3Sax-",
        "colab_type": "text"
      },
      "source": [
        "###2. 음성\n",
        "\n",
        "어느날 동생이 휴대폰에 대고 'hi 빅스비! hi빅스비!'라면서 말하길래 '뭐하는거야'라고 생각을 했습니다.\n",
        "그 모습을 보고 있는데 사람이 말하는 것을 듣고 그에 맞는 행동을 하는 것에 신기했습니다.\n",
        "\n",
        "이런 음성 인식제품에 말을 하면 '음성 입력 및 인식-자연어 처리-인식결과'의 단계를 거칩니다\n",
        "\n",
        "첫번째 음성 입력 및 인식 과정에서는 STT라는 기술을 이용합니다\n",
        "어린아이가 받아쓰기를 하듯 사람의 음성을 텍스트로 옮기는 과정을 말합니다\n",
        "\n",
        "다음으로 NLP자연어 처리과정입니다\n",
        "언어를 받으면 단어를 쪼개어 각각의 정보를 찾아내는 방식입니다\n",
        "\n",
        "마지막으로 기계는 인식 결과를 내놓습니다.\n",
        "TTS라는 기술을 통해 사람의 말소리처럼 응답을 하게 됩니다"
      ]
    },
    {
      "cell_type": "markdown",
      "metadata": {
        "id": "zBuhqFe3SjKX",
        "colab_type": "text"
      },
      "source": [
        "###3. 자율주행\n",
        "\n",
        "자율주행하면 바로 떠오르는 것은 자동차입니다 보통 영상을 보면 자동차가 자동으로 목적지까지 가는 대신 그 동안 탑승자는 다른 생산적인 일을 할 수 있는 영상을 많이 봐왔습니다\n",
        "\n",
        "자율주행 자동차는 인간의 눈귀코을 통해 정보를 분석을 합니다 자율주행 자동차는 레이더센서와 카메라가 이 역활을 수행합니다\n",
        "\n",
        "자율주행의 장점은 교통체증이 줄어들 것, 사고건수 감소, 시간절약 등이 있습니다\n",
        "하지만 아직은 단점이 존재하는데 비싼가격과 개발의 어려움, 사이버범죄자, 지속적인 감시로 개인 사생활이 드러나게 됩니다\n",
        "\n",
        "자율주행을 구현하기 위해서 크게\n",
        "\n",
        "lidar: 빛을 사방으로 방사하여 돌아오는 것으로 주변지형을 파악\n",
        "\n",
        "HDmap : 고정밀 지도 정보로서 신호등의 위치등 모든 상세한 지형 정보를 담은 지도에 의존하는 것\n",
        "\n",
        "테슬라는 크라우드 소싱이라는 딥러닝을 위한 데이터를 수집하여 학습하는 것 입니다"
      ]
    },
    {
      "cell_type": "markdown",
      "metadata": {
        "id": "SEuHj4ps1vcp",
        "colab_type": "text"
      },
      "source": [
        "###4. 이미지\n",
        "\n",
        "구글의 이미지 검색 기능, 구글포토 등 이 이미지 분석 기술의 사례입니다\n",
        "\n",
        "이미지 인식을 하기 위해 CNN이라는 기술을 사용합니다\n",
        "\n",
        "이미지 인식은 사람보다 더 정확해지고 있지만, 사람은 몇 장의 사진만으로도 어떤 사물인지 쉽게 학습하지만 인공지능의 경우 많은 양의 데이터를 학습해야 한다고 합니다\n",
        "\n",
        "또한 이미지 분석의 가장큰 문제점은 바로 노이즈 입니다\n",
        "인공지능은 데이터를 픽셀로 이미지를 분석하기 때문에 이미지 분석하는데 혼란스럽게 만드는 경우들이 있습니다\n",
        "\n",
        "<이미지>\n",
        "![참고](https://post.naver.com/viewer/image.nhn?src=https%3A%2F%2Fpost-phinf.pstatic.net%2FMjAxOTAyMTRfMTEy%2FMDAxNTUwMTI1MTU0NjQ4.ZV3VK6tjC9Blfjq8M0e5Utdr_UcYR057aruFv8tdjD8g.Tz-AB95sI4fWA2fA5mJBsVIMP3K6vVqELo2i1T39eLkg.JPEG%2F0214_AI-%25EC%259D%25B4%25EB%25AF%25B8%25EC%25A7%2580-%25EB%25B6%2584%25EC%2584%259D_04-720x10801.jpg)"
      ]
    },
    {
      "cell_type": "markdown",
      "metadata": {
        "id": "LS7Qtqm14hg-",
        "colab_type": "text"
      },
      "source": [
        "###4. 언어\n",
        "\n",
        "주로 사용하는 구글의 번역기가 대표적으로 언어의 인공지능이라고 할 수 있습니다\n",
        "\n",
        "최근에 구글의 번역의 성능이 좋아졌는데 바로 RNN을 도입했기 때문입니다\n",
        "\n",
        "RNN(반복적인 데이터)-순차적인 데이터를 학습하는데 특화되어 발전한 인공신경망입니다\n",
        "\n",
        "단어 다음에 단어가 올 것 임이 확실한 데이터이므로 이를 이용해 음성인식, 단어의 의미 판단, 대화 등등을 할 수 있습니다\n",
        "\n",
        "기존의 인공신경망은 각 층의 뉴런이 연결되어 있는 구조입니다 RNN은 추가적으로 과거 자신의 정로를 기억하고 이를 학습에 반영합니다\n",
        "즉, 이전 작업을 현재 작업과 연결을 할 수 있다는 것입니다"
      ]
    },
    {
      "cell_type": "markdown",
      "metadata": {
        "id": "AWaFS6a54vCL",
        "colab_type": "text"
      },
      "source": [
        "###5. 느낀점\n",
        "\n",
        "처음에 인공지능을 하는데 딥러닝이 왜 필요한지? 딥러닝이 뭐길래? 이러한 생각을 가졌었습니다\n",
        "하지만 인공지능이 스스로 학습을 하는 것도 있지만 그 수 많은 데이터들을 이용하여 계속해서 발전해 나가는 모습이 정말 멋있고 대단하다고 느꼈습니다"
      ]
    },
    {
      "cell_type": "markdown",
      "metadata": {
        "id": "lP20Ia-Reb49",
        "colab_type": "text"
      },
      "source": [
        "##2. 앞으로 학습목표\n",
        "\n",
        "수 많은 사람들이 노력하여 저의 삶을 편하게 만들어 주는 인공지능이 있었음에도 불구하고 너무나 안일했던 제 모습에 반성하게 되었습니다\n",
        "\n",
        "\"EBS다큐프라임 '4차 인간'3부 - 어떻게 기계와 공존 할 것인가?\" 영상을 보면서 아직 부족한 인공지능이지만 기계를 사람처럼 대하는 모습들과 폭파버튼을 눌렀을때 가슴이 뭉클했습니다\n",
        "앞으로는 더 정교해지고 더욱 완벽해질텐데 발전하는 이 인공지능에 사람이 단순 기계를 대하는 것이 아닌 사람대 사람으로 발전시킬수 있도록 열심히 하겠습니다"
      ]
    }
  ]
}